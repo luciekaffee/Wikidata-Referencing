{
 "cells": [
  {
   "cell_type": "code",
   "execution_count": 1,
   "metadata": {
    "collapsed": false
   },
   "outputs": [],
   "source": [
    "import matplotlib.pyplot as plt\n",
    "from matplotlib import rc\n",
    "rc('font',**{'family':'monospace','monospace':['Computer Modern Typewriter']})\n",
    "rc('text', usetex=True)\n",
    "import matplotlib\n",
    "matplotlib.rcParams[\"text.latex.preamble\"].append(r'\\usepackage{xfrac}')\n",
    "%matplotlib inline\n",
    "import matplotlib.mlab as mlab\n",
    "from matplotlib.dates import MonthLocator, WeekdayLocator, DateFormatter\n",
    "import numpy as np\n",
    "import pandas"
   ]
  },
  {
   "cell_type": "code",
   "execution_count": 2,
   "metadata": {
    "collapsed": false
   },
   "outputs": [
    {
     "name": "stdout",
     "output_type": "stream",
     "text": [
      "Index([u'item_id', u'host', u'wiki_ref_lang', u'wiki_ref_type', u'wikicite',\n",
      "       u'ref_value', u'stat_id', u'stat_property', u'domain', u'tld'],\n",
      "      dtype='object')\n",
      "Total number of matched domains: 1993\n"
     ]
    },
    {
     "data": {
      "image/png": "[encoded data removed]",
      "text/plain": [
       "<matplotlib.figure.Figure at 0x1101de450>"
      ]
     },
     "metadata": {},
     "output_type": "display_data"
    }
   ],
   "source": [
    "matchingRefs = pandas.read_csv('./matching_host.csv')\n",
    "\n",
    "domain2occurrence = {}\n",
    "print matchingRefs.keys()\n",
    "\n",
    "url2items = {}\n",
    "url2domain = {}\n",
    "for refNumber in range (0, len(matchingRefs['ref_value'])):\n",
    "    if matchingRefs['ref_value'][refNumber] not in url2domain:\n",
    "        url2domain[matchingRefs['ref_value'][refNumber]] = matchingRefs['host'][refNumber]\n",
    "    \n",
    "\n",
    "\n",
    "for refNumber in range (0, len(matchingRefs['ref_value'])):\n",
    "    if matchingRefs['ref_value'][refNumber] not in url2items:\n",
    "        url2items[matchingRefs['ref_value'][refNumber]] = [matchingRefs['item_id'][refNumber]]\n",
    "    elif matchingRefs['item_id'][refNumber] not in url2items[matchingRefs['ref_value'][refNumber]]:\n",
    "        url2items[matchingRefs['ref_value'][refNumber]].append(matchingRefs['item_id'][refNumber])\n",
    "    \n",
    "for url in url2items:\n",
    "    if url2domain[url] not in domain2occurrence: \n",
    "        domain2occurrence[url2domain[url]] = len(url2items[url])\n",
    "    else:\n",
    "        domain2occurrence[url2domain[url]] += len(url2items[url])\n",
    "\n",
    "domains = sorted(domain2occurrence, key=lambda k: domain2occurrence[k], reverse=True)\n",
    "domains = domains[:8]\n",
    "\n",
    "total = 0\n",
    "for domain in domain2occurrence:\n",
    "    total += domain2occurrence[domain]\n",
    "print ('Total number of matched domains: %d' % (total))\n",
    "\n",
    "occurrences = []\n",
    "for domain in domains:\n",
    "    \n",
    "    occurrences.append(domain2occurrence[domain] * 100 / 1993.0)\n",
    "\n",
    "ax = plt.barh(range(len(occurrences)), occurrences, align='center', color='K')\n",
    "plt.grid(which='both')\n",
    "plt.yticks(range(len(occurrences)), domains)\n",
    "\n",
    "plt.savefig('DomainBar.pdf', format='pdf', bbox_inches='tight')\n",
    "\n",
    "plt.show()"
   ]
  },
  {
   "cell_type": "code",
   "execution_count": 3,
   "metadata": {
    "collapsed": false
   },
   "outputs": [
    {
     "name": "stdout",
     "output_type": "stream",
     "text": [
      "Index([u'item_id', u'host', u'wiki_ref_lang', u'wiki_ref_type', u'wikicite',\n",
      "       u'ref_value', u'stat_id', u'stat_property', u'domain', u'tld'],\n",
      "      dtype='object')\n",
      "Total number of matched domains: 1993\n"
     ]
    },
    {
     "data": {
      "image/png": "[encoded data removed]",
      "text/plain": [
       "<matplotlib.figure.Figure at 0x1101deed0>"
      ]
     },
     "metadata": {},
     "output_type": "display_data"
    }
   ],
   "source": [
    "matchingRefs = pandas.read_csv('./matching_host.csv')\n",
    "\n",
    "domain2occurrence = {}\n",
    "print matchingRefs.keys()\n",
    "\n",
    "url2items = {}\n",
    "url2domain = {}\n",
    "for refNumber in range (0, len(matchingRefs['ref_value'])):\n",
    "    if matchingRefs['ref_value'][refNumber] not in url2domain:\n",
    "        url2domain[matchingRefs['ref_value'][refNumber]] = matchingRefs['wiki_ref_lang'][refNumber]\n",
    "    \n",
    "\n",
    "\n",
    "for refNumber in range (0, len(matchingRefs['ref_value'])):\n",
    "    if matchingRefs['ref_value'][refNumber] not in url2items:\n",
    "        url2items[matchingRefs['ref_value'][refNumber]] = [matchingRefs['item_id'][refNumber]]\n",
    "    elif matchingRefs['item_id'][refNumber] not in url2items[matchingRefs['ref_value'][refNumber]]:\n",
    "        url2items[matchingRefs['ref_value'][refNumber]].append(matchingRefs['item_id'][refNumber])\n",
    "    \n",
    "for url in url2items:\n",
    "    if url2domain[url] not in domain2occurrence: \n",
    "        domain2occurrence[url2domain[url]] = len(url2items[url])\n",
    "    else:\n",
    "        domain2occurrence[url2domain[url]] += len(url2items[url])\n",
    "\n",
    "domains = sorted(domain2occurrence, key=lambda k: domain2occurrence[k], reverse=True)\n",
    "domains = domains[:8]\n",
    "\n",
    "total = 0\n",
    "for domain in domain2occurrence:\n",
    "    total += domain2occurrence[domain]\n",
    "print ('Total number of matched domains: %d' % (total))\n",
    "\n",
    "occurrences = []\n",
    "for domain in domains:\n",
    "    \n",
    "    occurrences.append(domain2occurrence[domain] * 100 / 1993.0)\n",
    "\n",
    "ax = plt.barh(range(len(occurrences)), occurrences, align='center', color='K')\n",
    "plt.grid(which='both')\n",
    "plt.yticks(range(len(occurrences)), domains)\n",
    "\n",
    "\n",
    "plt.savefig('TopDomainBar.pdf', format='pdf', bbox_inches='tight')\n",
    "plt.show()"
   ]
  }
 ],
 "metadata": {
  "kernelspec": {
   "display_name": "Python 2",
   "language": "python",
   "name": "python2"
  },
  "language_info": {
   "codemirror_mode": {
    "name": "ipython",
    "version": 2
   },
   "file_extension": ".py",
   "mimetype": "text/x-python",
   "name": "python",
   "nbconvert_exporter": "python",
   "pygments_lexer": "ipython2",
   "version": "2.7.13"
  }
 },
 "nbformat": 4,
 "nbformat_minor": 0
}
